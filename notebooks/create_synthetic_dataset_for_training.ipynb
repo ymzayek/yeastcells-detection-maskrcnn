{
  "nbformat": 4,
  "nbformat_minor": 0,
  "metadata": {
    "colab": {
      "name": "create_synthetic_dataset_for_training.ipynb",
      "provenance": [],
      "collapsed_sections": []
    },
    "kernelspec": {
      "display_name": "Python 3.8 (Yeast Cells)",
      "language": "python",
      "name": "yeastcells"
    },
    "language_info": {
      "codemirror_mode": {
        "name": "ipython",
        "version": 3
      },
      "file_extension": ".py",
      "mimetype": "text/x-python",
      "name": "python",
      "nbconvert_exporter": "python",
      "pygments_lexer": "ipython3",
      "version": "3.8.10"
    },
    "widgets": {
      "application/vnd.jupyter.widget-state+json": {
        "c8d5baadb68b4ea18a0faaac0ed3f300": {
          "model_module": "@jupyter-widgets/controls",
          "model_name": "HBoxModel",
          "model_module_version": "1.5.0",
          "state": {
            "_view_name": "HBoxView",
            "_dom_classes": [],
            "_model_name": "HBoxModel",
            "_view_module": "@jupyter-widgets/controls",
            "_model_module_version": "1.5.0",
            "_view_count": null,
            "_view_module_version": "1.5.0",
            "box_style": "",
            "layout": "IPY_MODEL_e5357f568d5f420b9bda17e4da3bd97d",
            "_model_module": "@jupyter-widgets/controls",
            "children": [
              "IPY_MODEL_d4926659992e4359b6cbb77268d51779",
              "IPY_MODEL_ea6a03d7c88648ddadb3ce3784b6a916",
              "IPY_MODEL_41777ed252ad47e7a95cd80b33ebd64f"
            ]
          }
        },
        "e5357f568d5f420b9bda17e4da3bd97d": {
          "model_module": "@jupyter-widgets/base",
          "model_name": "LayoutModel",
          "model_module_version": "1.2.0",
          "state": {
            "_view_name": "LayoutView",
            "grid_template_rows": null,
            "right": null,
            "justify_content": null,
            "_view_module": "@jupyter-widgets/base",
            "overflow": null,
            "_model_module_version": "1.2.0",
            "_view_count": null,
            "flex_flow": null,
            "width": null,
            "min_width": null,
            "border": null,
            "align_items": null,
            "bottom": null,
            "_model_module": "@jupyter-widgets/base",
            "top": null,
            "grid_column": null,
            "overflow_y": null,
            "overflow_x": null,
            "grid_auto_flow": null,
            "grid_area": null,
            "grid_template_columns": null,
            "flex": null,
            "_model_name": "LayoutModel",
            "justify_items": null,
            "grid_row": null,
            "max_height": null,
            "align_content": null,
            "visibility": null,
            "align_self": null,
            "height": null,
            "min_height": null,
            "padding": null,
            "grid_auto_rows": null,
            "grid_gap": null,
            "max_width": null,
            "order": null,
            "_view_module_version": "1.2.0",
            "grid_template_areas": null,
            "object_position": null,
            "object_fit": null,
            "grid_auto_columns": null,
            "margin": null,
            "display": null,
            "left": null
          }
        },
        "d4926659992e4359b6cbb77268d51779": {
          "model_module": "@jupyter-widgets/controls",
          "model_name": "HTMLModel",
          "model_module_version": "1.5.0",
          "state": {
            "_view_name": "HTMLView",
            "style": "IPY_MODEL_f369ea2536274c74a45de62847b05090",
            "_dom_classes": [],
            "description": "",
            "_model_name": "HTMLModel",
            "placeholder": "​",
            "_view_module": "@jupyter-widgets/controls",
            "_model_module_version": "1.5.0",
            "value": "100%",
            "_view_count": null,
            "_view_module_version": "1.5.0",
            "description_tooltip": null,
            "_model_module": "@jupyter-widgets/controls",
            "layout": "IPY_MODEL_70dde8d87437447da0c467a8d564aad1"
          }
        },
        "ea6a03d7c88648ddadb3ce3784b6a916": {
          "model_module": "@jupyter-widgets/controls",
          "model_name": "FloatProgressModel",
          "model_module_version": "1.5.0",
          "state": {
            "_view_name": "ProgressView",
            "style": "IPY_MODEL_01811841d0934273875f3f7c943f4750",
            "_dom_classes": [],
            "description": "",
            "_model_name": "FloatProgressModel",
            "bar_style": "success",
            "max": 2,
            "_view_module": "@jupyter-widgets/controls",
            "_model_module_version": "1.5.0",
            "value": 2,
            "_view_count": null,
            "_view_module_version": "1.5.0",
            "orientation": "horizontal",
            "min": 0,
            "description_tooltip": null,
            "_model_module": "@jupyter-widgets/controls",
            "layout": "IPY_MODEL_94f7f42f612b4de89070f6201e9c71d9"
          }
        },
        "41777ed252ad47e7a95cd80b33ebd64f": {
          "model_module": "@jupyter-widgets/controls",
          "model_name": "HTMLModel",
          "model_module_version": "1.5.0",
          "state": {
            "_view_name": "HTMLView",
            "style": "IPY_MODEL_f18da7bc427a432b841d3255839fd7d2",
            "_dom_classes": [],
            "description": "",
            "_model_name": "HTMLModel",
            "placeholder": "​",
            "_view_module": "@jupyter-widgets/controls",
            "_model_module_version": "1.5.0",
            "value": " 2/2 [00:18&lt;00:00, 18.74s/it]",
            "_view_count": null,
            "_view_module_version": "1.5.0",
            "description_tooltip": null,
            "_model_module": "@jupyter-widgets/controls",
            "layout": "IPY_MODEL_a0a8d7cea1eb45b4a425e1ccf915fc23"
          }
        },
        "f369ea2536274c74a45de62847b05090": {
          "model_module": "@jupyter-widgets/controls",
          "model_name": "DescriptionStyleModel",
          "model_module_version": "1.5.0",
          "state": {
            "_view_name": "StyleView",
            "_model_name": "DescriptionStyleModel",
            "description_width": "",
            "_view_module": "@jupyter-widgets/base",
            "_model_module_version": "1.5.0",
            "_view_count": null,
            "_view_module_version": "1.2.0",
            "_model_module": "@jupyter-widgets/controls"
          }
        },
        "70dde8d87437447da0c467a8d564aad1": {
          "model_module": "@jupyter-widgets/base",
          "model_name": "LayoutModel",
          "model_module_version": "1.2.0",
          "state": {
            "_view_name": "LayoutView",
            "grid_template_rows": null,
            "right": null,
            "justify_content": null,
            "_view_module": "@jupyter-widgets/base",
            "overflow": null,
            "_model_module_version": "1.2.0",
            "_view_count": null,
            "flex_flow": null,
            "width": null,
            "min_width": null,
            "border": null,
            "align_items": null,
            "bottom": null,
            "_model_module": "@jupyter-widgets/base",
            "top": null,
            "grid_column": null,
            "overflow_y": null,
            "overflow_x": null,
            "grid_auto_flow": null,
            "grid_area": null,
            "grid_template_columns": null,
            "flex": null,
            "_model_name": "LayoutModel",
            "justify_items": null,
            "grid_row": null,
            "max_height": null,
            "align_content": null,
            "visibility": null,
            "align_self": null,
            "height": null,
            "min_height": null,
            "padding": null,
            "grid_auto_rows": null,
            "grid_gap": null,
            "max_width": null,
            "order": null,
            "_view_module_version": "1.2.0",
            "grid_template_areas": null,
            "object_position": null,
            "object_fit": null,
            "grid_auto_columns": null,
            "margin": null,
            "display": null,
            "left": null
          }
        },
        "01811841d0934273875f3f7c943f4750": {
          "model_module": "@jupyter-widgets/controls",
          "model_name": "ProgressStyleModel",
          "model_module_version": "1.5.0",
          "state": {
            "_view_name": "StyleView",
            "_model_name": "ProgressStyleModel",
            "description_width": "",
            "_view_module": "@jupyter-widgets/base",
            "_model_module_version": "1.5.0",
            "_view_count": null,
            "_view_module_version": "1.2.0",
            "bar_color": null,
            "_model_module": "@jupyter-widgets/controls"
          }
        },
        "94f7f42f612b4de89070f6201e9c71d9": {
          "model_module": "@jupyter-widgets/base",
          "model_name": "LayoutModel",
          "model_module_version": "1.2.0",
          "state": {
            "_view_name": "LayoutView",
            "grid_template_rows": null,
            "right": null,
            "justify_content": null,
            "_view_module": "@jupyter-widgets/base",
            "overflow": null,
            "_model_module_version": "1.2.0",
            "_view_count": null,
            "flex_flow": null,
            "width": null,
            "min_width": null,
            "border": null,
            "align_items": null,
            "bottom": null,
            "_model_module": "@jupyter-widgets/base",
            "top": null,
            "grid_column": null,
            "overflow_y": null,
            "overflow_x": null,
            "grid_auto_flow": null,
            "grid_area": null,
            "grid_template_columns": null,
            "flex": null,
            "_model_name": "LayoutModel",
            "justify_items": null,
            "grid_row": null,
            "max_height": null,
            "align_content": null,
            "visibility": null,
            "align_self": null,
            "height": null,
            "min_height": null,
            "padding": null,
            "grid_auto_rows": null,
            "grid_gap": null,
            "max_width": null,
            "order": null,
            "_view_module_version": "1.2.0",
            "grid_template_areas": null,
            "object_position": null,
            "object_fit": null,
            "grid_auto_columns": null,
            "margin": null,
            "display": null,
            "left": null
          }
        },
        "f18da7bc427a432b841d3255839fd7d2": {
          "model_module": "@jupyter-widgets/controls",
          "model_name": "DescriptionStyleModel",
          "model_module_version": "1.5.0",
          "state": {
            "_view_name": "StyleView",
            "_model_name": "DescriptionStyleModel",
            "description_width": "",
            "_view_module": "@jupyter-widgets/base",
            "_model_module_version": "1.5.0",
            "_view_count": null,
            "_view_module_version": "1.2.0",
            "_model_module": "@jupyter-widgets/controls"
          }
        },
        "a0a8d7cea1eb45b4a425e1ccf915fc23": {
          "model_module": "@jupyter-widgets/base",
          "model_name": "LayoutModel",
          "model_module_version": "1.2.0",
          "state": {
            "_view_name": "LayoutView",
            "grid_template_rows": null,
            "right": null,
            "justify_content": null,
            "_view_module": "@jupyter-widgets/base",
            "overflow": null,
            "_model_module_version": "1.2.0",
            "_view_count": null,
            "flex_flow": null,
            "width": null,
            "min_width": null,
            "border": null,
            "align_items": null,
            "bottom": null,
            "_model_module": "@jupyter-widgets/base",
            "top": null,
            "grid_column": null,
            "overflow_y": null,
            "overflow_x": null,
            "grid_auto_flow": null,
            "grid_area": null,
            "grid_template_columns": null,
            "flex": null,
            "_model_name": "LayoutModel",
            "justify_items": null,
            "grid_row": null,
            "max_height": null,
            "align_content": null,
            "visibility": null,
            "align_self": null,
            "height": null,
            "min_height": null,
            "padding": null,
            "grid_auto_rows": null,
            "grid_gap": null,
            "max_width": null,
            "order": null,
            "_view_module_version": "1.2.0",
            "grid_template_areas": null,
            "object_position": null,
            "object_fit": null,
            "grid_auto_columns": null,
            "margin": null,
            "display": null,
            "left": null
          }
        }
      }
    }
  },
  "cells": [
    {
      "cell_type": "markdown",
      "metadata": {
        "id": "D2-O2CetHCXp"
      },
      "source": [
        "# Create synthetic dataset for training\n",
        "\n",
        "The `create_dataset` creates a split data set for training, validation (or development) and testing. It's not optimized, and takes about 4-5 hours on Google Colab to finished.\n",
        "\n",
        "Please note that evaluation on synthetic validation or test does not report realistic performance, make sure to use real data instead. However, the two performance gaps between performance measured on\n",
        "\n",
        " * synthetic training data,\n",
        " * synthetic validation or test data, and\n",
        " * real test data,\n",
        "\n",
        "denote error due to \n",
        "\n",
        " * overfitting, respectively\n",
        " * suboptimal realism of the synthetic data. \n",
        "\n",
        "If the synthetic test performance is worse than realistic test performance, this would indicate the synthetic data is tougher than the realistic data, for example due to unrealistic variations allowed by synthetic data.\n",
        "\n",
        "This notebook illustrates creating a random data set.\n",
        "\n",
        "This notebook was tested on Google Colab."
      ]
    },
    {
      "cell_type": "code",
      "metadata": {
        "id": "Wt9M__oOHCXs",
        "colab": {
          "base_uri": "https://localhost:8080/"
        },
        "cellView": "form",
        "outputId": "b2685c76-c327-48ed-ec44-1d6d2e0c160b"
      },
      "source": [
        "#@markdown # Configuration, dependencies and imports\n",
        "import os\n",
        "import sys\n",
        "import numpy\n",
        "import warnings\n",
        "from importlib import reload\n",
        "\n",
        "platform = 'unknown'\n",
        "try:\n",
        "  from google import colab\n",
        "  platform = 'google-colab'\n",
        "except ImportError:\n",
        "  if os.path.exists('/slow-data/yeastcells/data/'):\n",
        "    platform = 'cit-gpu-machine'\n",
        "\n",
        "force_reinstall = False #@param {\"type\": \"boolean\"}\n",
        "synthetic_data_path = \"\" #@param {\"type\":\"string\"}\n",
        "\n",
        "\n",
        "if platform == 'cit-gpu-machine':\n",
        "  synthetic_data_path = synthetic_data_path or '/slow-data/yeastcells/data/synthetic/clean/'\n",
        "  if f'{git_repositories_path}/yeastcells-detection-maskrcnn/' not in sys.path:\n",
        "    sys.path.append(f'{git_repositories_path}/synthetic-yeast-cells/')\n",
        "elif platform == 'google-colab':\n",
        "  synthetic_data_path = synthetic_data_path or '/content/synthetic-data/'\n",
        "  for path in [synthetic_data_path]:\n",
        "    os.makedirs(path, exist_ok=True)\n",
        "\n",
        "try:\n",
        "  import umsgpack\n",
        "except ImportError:\n",
        "  !pip3 install umsgpack\n",
        "  import umsgpack\n",
        "  \n",
        "assert synthetic_data_path\n",
        "\n",
        "def install_synthetic_cells():\n",
        "  !pip3 uninstall -y synthetic-yeast-cells\n",
        "  !pip3 install git+https://github.com/prhbrt/synthetic-yeast-cells\n",
        "\n",
        "if force_reinstall:\n",
        "  install_synthetic_cells()\n",
        "\n",
        "try:\n",
        "  from syntheticyeastcells.detectron2 import create_dataset\n",
        "except ImportError:\n",
        "  install_synthetic_cells()\n",
        "  from syntheticyeastcells.detectron2 import create_dataset\n",
        "\n",
        "\n",
        "import syntheticyeastcells.detectron2\n",
        "reload(syntheticyeastcells.detectron2)"
      ],
      "execution_count": 5,
      "outputs": [
        {
          "output_type": "stream",
          "name": "stderr",
          "text": [
            "/usr/local/lib/python3.7/dist-packages/syntheticyeastcells/detectron2.py:19: RuntimeWarning: detectron2 not installed, assuming value 0 for detectron2.structures.BoxMode.XYXY_ABS, this will unlikely cause issues, but installing detectron2 and running again would be safer.\n",
            "  'detectron2 and running again would be safer.', RuntimeWarning)\n"
          ]
        },
        {
          "output_type": "execute_result",
          "data": {
            "text/plain": [
              "<module 'syntheticyeastcells.detectron2' from '/usr/local/lib/python3.7/dist-packages/syntheticyeastcells/detectron2.py'>"
            ]
          },
          "metadata": {},
          "execution_count": 5
        }
      ]
    },
    {
      "cell_type": "code",
      "metadata": {
        "colab": {
          "base_uri": "https://localhost:8080/",
          "height": 49,
          "referenced_widgets": [
            "c8d5baadb68b4ea18a0faaac0ed3f300",
            "e5357f568d5f420b9bda17e4da3bd97d",
            "d4926659992e4359b6cbb77268d51779",
            "ea6a03d7c88648ddadb3ce3784b6a916",
            "41777ed252ad47e7a95cd80b33ebd64f",
            "f369ea2536274c74a45de62847b05090",
            "70dde8d87437447da0c467a8d564aad1",
            "01811841d0934273875f3f7c943f4750",
            "94f7f42f612b4de89070f6201e9c71d9",
            "f18da7bc427a432b841d3255839fd7d2",
            "a0a8d7cea1eb45b4a425e1ccf915fc23"
          ]
        },
        "id": "oX5GVn5THCXv",
        "cellView": "form",
        "outputId": "ed693486-b1a1-4a81-a3e3-889620484079"
      },
      "source": [
        "#@markdown # Create samples\n",
        "\n",
        "labels = create_dataset(\n",
        "  # Where to store the data set\n",
        "  synthetic_data_path,\n",
        "\n",
        "  # sizes of several subsets\n",
        "  # for a quick proof of concept, use the smaller numbers.\n",
        "  # sets={'test': 1000, 'val': 1000, 'train': 20000},\n",
        "  sets={'test': 0, 'val': 0, 'train': 20},\n",
        "\n",
        "  # same parameters as before\n",
        "  n_cells_per_image=100,\n",
        "  size=(512, 512),\n",
        "  min_distance_boundary=50,\n",
        "  r0_range=(2, 20),\n",
        "  r1_factor_range=(0.7, 1.4),\n",
        "  min_cell_area=0,\n",
        "  spatial_blur_std=1.5,\n",
        "  background_intensity=0.4,\n",
        "  background_contrast=0.01,\n",
        "  core_contrast=0.16,\n",
        "  p_white_outside=0.5,\n",
        "\n",
        "  # number of processes to run in parallel, number of samples created in one batch\n",
        "  njobs=40, batch_size=10,\n",
        "\n",
        "  # show a progressbar\n",
        "  progressbar=True)\n",
        "\n",
        "with open(f'{synthetic_data_path}/labels.umsgpack', 'wb') as f:\n",
        "  umsgpack.pack(labels, f, encoding = \"utf-8\")"
      ],
      "execution_count": 12,
      "outputs": [
        {
          "output_type": "display_data",
          "data": {
            "application/vnd.jupyter.widget-view+json": {
              "model_id": "c8d5baadb68b4ea18a0faaac0ed3f300",
              "version_minor": 0,
              "version_major": 2
            },
            "text/plain": [
              "  0%|          | 0/2 [00:00<?, ?it/s]"
            ]
          },
          "metadata": {}
        }
      ]
    },
    {
      "cell_type": "markdown",
      "metadata": {
        "id": "l4YwAuxxHCXv"
      },
      "source": [
        ""
      ]
    },
    {
      "cell_type": "code",
      "metadata": {
        "colab": {
          "base_uri": "https://localhost:8080/",
          "height": 529
        },
        "id": "nhgCEl0KHCXw",
        "cellView": "form",
        "outputId": "4339b2fd-38b9-4419-8988-8b331f062055"
      },
      "source": [
        "#@markdown ## Result\n",
        "\n",
        "#@markdown These cells respectively\n",
        "#@markdown  * list the created files, e.g. images and the json with labels,\n",
        "#@markdown  * show an example synthetic image, and\n",
        "#@markdown  * archive the data set to allow downloading.\n",
        "\n",
        "#@markdown If you download the data set, this allows you to use it to train a model. Alternatively, you can also combine the training notebook with this one to skip downloading a large file.\n",
        "\n",
        "from IPython.display import Image\n",
        "\n",
        "Image(f\"{synthetic_data_path}/train/image-1.jpg\")"
      ],
      "execution_count": 13,
      "outputs": [
        {
          "output_type": "execute_result",
          "data": {
            "image/jpeg": "[encoded data removed]",
            "text/plain": [
              "<IPython.core.display.Image object>"
            ]
          },
          "metadata": {},
          "execution_count": 13
        }
      ]
    },
    {
      "cell_type": "code",
      "metadata": {
        "colab": {
          "base_uri": "https://localhost:8080/",
          "height": 399
        },
        "id": "MACot9bXHCXx",
        "cellView": "form",
        "outputId": "39a10086-5768-4985-fed4-a4ce81e4ffe8"
      },
      "source": [
        "#@markdown ## Download\n",
        "\n",
        "#@markdown The resulting file will be around 1.1-1.2 GB, so downloading takes some time. Consider mounting Google Drive and saving it there if you can affort the space.\n",
        "\n",
        "try:\n",
        "  from google.colab.files import download\n",
        "  !cd '{synthetic_data_path}' && zip -r \"{synthetic_data_path}/../synthetic-dataset.zip\" .\n",
        "  download(f\"{synthetic_data_path}/../synthetic-dataset.zip\")\n",
        "except ImportError:\n",
        "  print('Not on Google Colab, won\\'t start download')"
      ],
      "execution_count": 11,
      "outputs": [
        {
          "output_type": "stream",
          "name": "stdout",
          "text": [
            "updating: train/ (stored 0%)\n",
            "updating: train/image-2.jpg (deflated 2%)\n",
            "updating: train/image-10.jpg (deflated 2%)\n",
            "updating: train/image-9.jpg (deflated 2%)\n",
            "updating: train/image-14.jpg (deflated 2%)\n",
            "updating: train/image-8.jpg (deflated 2%)\n",
            "updating: train/image-1.jpg (deflated 2%)\n",
            "updating: train/image-3.jpg (deflated 2%)\n",
            "updating: train/image-12.jpg (deflated 2%)\n",
            "updating: train/image-15.jpg (deflated 2%)\n",
            "updating: train/image-5.jpg (deflated 2%)\n",
            "updating: train/image-11.jpg (deflated 2%)\n",
            "updating: train/image-16.jpg (deflated 2%)\n",
            "updating: train/image-13.jpg (deflated 2%)\n",
            "updating: train/image-18.jpg (deflated 2%)\n",
            "updating: train/image-4.jpg (deflated 2%)\n",
            "updating: train/image-6.jpg (deflated 2%)\n",
            "updating: train/image-19.jpg (deflated 2%)\n",
            "updating: train/image-17.jpg (deflated 2%)\n",
            "updating: train/image-7.jpg (deflated 2%)\n",
            "updating: train/image-0.jpg (deflated 2%)\n",
            "updating: labels.umsgpack (deflated 82%)\n"
          ]
        },
        {
          "output_type": "display_data",
          "data": {
            "application/javascript": [
              "\n",
              "    async function download(id, filename, size) {\n",
              "      if (!google.colab.kernel.accessAllowed) {\n",
              "        return;\n",
              "      }\n",
              "      const div = document.createElement('div');\n",
              "      const label = document.createElement('label');\n",
              "      label.textContent = `Downloading \"${filename}\": `;\n",
              "      div.appendChild(label);\n",
              "      const progress = document.createElement('progress');\n",
              "      progress.max = size;\n",
              "      div.appendChild(progress);\n",
              "      document.body.appendChild(div);\n",
              "\n",
              "      const buffers = [];\n",
              "      let downloaded = 0;\n",
              "\n",
              "      const channel = await google.colab.kernel.comms.open(id);\n",
              "      // Send a message to notify the kernel that we're ready.\n",
              "      channel.send({})\n",
              "\n",
              "      for await (const message of channel.messages) {\n",
              "        // Send a message to notify the kernel that we're ready.\n",
              "        channel.send({})\n",
              "        if (message.buffers) {\n",
              "          for (const buffer of message.buffers) {\n",
              "            buffers.push(buffer);\n",
              "            downloaded += buffer.byteLength;\n",
              "            progress.value = downloaded;\n",
              "          }\n",
              "        }\n",
              "      }\n",
              "      const blob = new Blob(buffers, {type: 'application/binary'});\n",
              "      const a = document.createElement('a');\n",
              "      a.href = window.URL.createObjectURL(blob);\n",
              "      a.download = filename;\n",
              "      div.appendChild(a);\n",
              "      a.click();\n",
              "      div.remove();\n",
              "    }\n",
              "  "
            ],
            "text/plain": [
              "<IPython.core.display.Javascript object>"
            ]
          },
          "metadata": {}
        },
        {
          "output_type": "display_data",
          "data": {
            "application/javascript": [
              "download(\"download_7a7fba2a-eb55-4ec6-99d7-75b2e481b674\", \"synthetic-dataset.zip\", 1167074)"
            ],
            "text/plain": [
              "<IPython.core.display.Javascript object>"
            ]
          },
          "metadata": {}
        }
      ]
    }
  ]
}